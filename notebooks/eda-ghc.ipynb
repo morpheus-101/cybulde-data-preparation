{
 "cells": [
  {
   "cell_type": "code",
   "execution_count": 3,
   "id": "325a4a32-f41d-49c1-8cc4-646acf9f4b1b",
   "metadata": {},
   "outputs": [
    {
     "name": "stdout",
     "output_type": "stream",
     "text": [
      "eda-ghc.ipynb  eda-jigsaw.ipynb  eda-twitter.ipynb\n"
     ]
    }
   ],
   "source": [
    "!ls"
   ]
  },
  {
   "cell_type": "code",
   "execution_count": 5,
   "id": "91141da6-9986-448e-85a1-06c0d46c8320",
   "metadata": {},
   "outputs": [
    {
     "name": "stdout",
     "output_type": "stream",
     "text": [
      "/app\n"
     ]
    },
    {
     "name": "stderr",
     "output_type": "stream",
     "text": [
      "/home/rishikeshdhayarkar/venv/lib/python3.10/site-packages/IPython/core/magics/osm.py:417: UserWarning: This is now an optional IPython functionality, setting dhist requires you to install the `pickleshare` library.\n",
      "  self.shell.db['dhist'] = compress_dhist(dhist)[-100:]\n"
     ]
    }
   ],
   "source": [
    "cd .."
   ]
  },
  {
   "cell_type": "code",
   "execution_count": 7,
   "id": "ea6cf744-132b-42ed-9d0c-bdd133c3c267",
   "metadata": {},
   "outputs": [
    {
     "name": "stdout",
     "output_type": "stream",
     "text": [
      "/app\n"
     ]
    }
   ],
   "source": [
    "!pwd"
   ]
  },
  {
   "cell_type": "code",
   "execution_count": 10,
   "id": "3a029c5f-1dc0-48c1-9f10-31ac276db1a6",
   "metadata": {},
   "outputs": [],
   "source": [
    "import pandas as pd"
   ]
  },
  {
   "cell_type": "code",
   "execution_count": 12,
   "id": "eaa8205b-bede-4dac-8df1-650e11d88d24",
   "metadata": {},
   "outputs": [],
   "source": [
    "from abc import ABC, abstractmethod\n",
    "import dask.dataframe as dd\n",
    "from typing import Optional\n",
    "from cybulde.utils.utils import get_logger\n",
    "import os\n",
    "from dask_ml.model_selection import train_test_split"
   ]
  },
  {
   "cell_type": "code",
   "execution_count": 11,
   "id": "60d57055-8d7d-4b8d-bd8a-8ac7cee889cc",
   "metadata": {},
   "outputs": [
    {
     "name": "stdout",
     "output_type": "stream",
     "text": [
      "Shape of train_df: (22036, 4)\n",
      "Shape of test_df: (5510, 4)\n"
     ]
    }
   ],
   "source": [
    "train_df = pd.read_csv(\"./data/raw/ghc/ghc_train.tsv\", sep=\"\\t\", header=0)\n",
    "test_df = pd.read_csv(\"./data/raw/ghc/ghc_test.tsv\", sep=\"\\t\", header=0)\n",
    "print(f\"Shape of train_df: {train_df.shape}\")\n",
    "print(f\"Shape of test_df: {test_df.shape}\")"
   ]
  },
  {
   "cell_type": "code",
   "execution_count": 8,
   "id": "bcfb7316-2c59-4317-94b8-60dde8acca33",
   "metadata": {},
   "outputs": [
    {
     "data": {
      "text/html": [
       "<div>\n",
       "<style scoped>\n",
       "    .dataframe tbody tr th:only-of-type {\n",
       "        vertical-align: middle;\n",
       "    }\n",
       "\n",
       "    .dataframe tbody tr th {\n",
       "        vertical-align: top;\n",
       "    }\n",
       "\n",
       "    .dataframe thead th {\n",
       "        text-align: right;\n",
       "    }\n",
       "</style>\n",
       "<table border=\"1\" class=\"dataframe\">\n",
       "  <thead>\n",
       "    <tr style=\"text-align: right;\">\n",
       "      <th></th>\n",
       "      <th>text</th>\n",
       "      <th>hd</th>\n",
       "      <th>cv</th>\n",
       "      <th>vo</th>\n",
       "    </tr>\n",
       "  </thead>\n",
       "  <tbody>\n",
       "    <tr>\n",
       "      <th>0</th>\n",
       "      <td>He most likely converted to islam due to his n...</td>\n",
       "      <td>0</td>\n",
       "      <td>0</td>\n",
       "      <td>0</td>\n",
       "    </tr>\n",
       "    <tr>\n",
       "      <th>1</th>\n",
       "      <td>So Ford lied about being a psychologist. Recor...</td>\n",
       "      <td>0</td>\n",
       "      <td>0</td>\n",
       "      <td>0</td>\n",
       "    </tr>\n",
       "    <tr>\n",
       "      <th>2</th>\n",
       "      <td>Jobs. Education. Ending abuse of Nation. CA43.</td>\n",
       "      <td>0</td>\n",
       "      <td>0</td>\n",
       "      <td>0</td>\n",
       "    </tr>\n",
       "    <tr>\n",
       "      <th>3</th>\n",
       "      <td>I share a lot of your values, &amp; like many who ...</td>\n",
       "      <td>0</td>\n",
       "      <td>0</td>\n",
       "      <td>0</td>\n",
       "    </tr>\n",
       "    <tr>\n",
       "      <th>4</th>\n",
       "      <td>I am so ready to get back to blogging! www.ben...</td>\n",
       "      <td>0</td>\n",
       "      <td>0</td>\n",
       "      <td>0</td>\n",
       "    </tr>\n",
       "  </tbody>\n",
       "</table>\n",
       "</div>"
      ],
      "text/plain": [
       "                                                text  hd  cv  vo\n",
       "0  He most likely converted to islam due to his n...   0   0   0\n",
       "1  So Ford lied about being a psychologist. Recor...   0   0   0\n",
       "2     Jobs. Education. Ending abuse of Nation. CA43.   0   0   0\n",
       "3  I share a lot of your values, & like many who ...   0   0   0\n",
       "4  I am so ready to get back to blogging! www.ben...   0   0   0"
      ]
     },
     "execution_count": 8,
     "metadata": {},
     "output_type": "execute_result"
    }
   ],
   "source": [
    "train_df.head()"
   ]
  },
  {
   "cell_type": "code",
   "execution_count": null,
   "id": "968c11b1-e3b6-4562-890d-35c3690ba54b",
   "metadata": {},
   "outputs": [],
   "source": [
    "# hd - human dignity\n",
    "# cv - calls for violence\n",
    "# vo - offensive language"
   ]
  },
  {
   "cell_type": "code",
   "execution_count": 11,
   "id": "19c4ddab-eed9-4848-b6c6-12ced013e27b",
   "metadata": {},
   "outputs": [
    {
     "data": {
      "text/plain": [
       "['He most likely converted to islam due to his nature being suitable for  islamic doctrine. \"Prophet\" Muhammad was a psychopath.',\n",
       " 'So Ford lied about being a psychologist. Records seem to indicate she was just a student, no work.',\n",
       " 'Jobs. Education. Ending abuse of Nation. CA43.',\n",
       " \"I share a lot of your values, & like many who do, I don't call myself alt right; I'm a nationalist, & not civic. I'd always thought 'alt right' is an umbrella term tho, where many are really alt lite, which itself is largely classical liberal or civic nationalist. There are a lot of 'infiltrators' trying to sow discord, w/ some success. I don't like infighting.\",\n",
       " 'I am so ready to get back to blogging! www.benbrihouse.com #recipes #foodphotography']"
      ]
     },
     "execution_count": 11,
     "metadata": {},
     "output_type": "execute_result"
    }
   ],
   "source": [
    "train_df.text.tolist()[:5]"
   ]
  },
  {
   "cell_type": "code",
   "execution_count": null,
   "id": "88b7f82d-887a-4944-bb2c-463b14f9165a",
   "metadata": {},
   "outputs": [],
   "source": []
  },
  {
   "cell_type": "code",
   "execution_count": null,
   "id": "a43d6a57-9233-41b0-8459-a9a2b6af3327",
   "metadata": {},
   "outputs": [],
   "source": []
  },
  {
   "cell_type": "code",
   "execution_count": null,
   "id": "4ddb9887-4ff4-4abb-bf29-1036958cc7a3",
   "metadata": {},
   "outputs": [],
   "source": []
  },
  {
   "cell_type": "code",
   "execution_count": null,
   "id": "751ca818-b4aa-49d0-a122-434f57cd5a0a",
   "metadata": {},
   "outputs": [],
   "source": []
  },
  {
   "cell_type": "code",
   "execution_count": null,
   "id": "26ee45d4-1e0f-4517-878e-7901b340cffa",
   "metadata": {},
   "outputs": [],
   "source": []
  },
  {
   "cell_type": "code",
   "execution_count": null,
   "id": "c99fe6e3-b85e-413a-81d8-31dd5288d440",
   "metadata": {},
   "outputs": [],
   "source": []
  }
 ],
 "metadata": {
  "kernelspec": {
   "display_name": "Python 3 (ipykernel)",
   "language": "python",
   "name": "python3"
  },
  "language_info": {
   "codemirror_mode": {
    "name": "ipython",
    "version": 3
   },
   "file_extension": ".py",
   "mimetype": "text/x-python",
   "name": "python",
   "nbconvert_exporter": "python",
   "pygments_lexer": "ipython3",
   "version": "3.10.14"
  }
 },
 "nbformat": 4,
 "nbformat_minor": 5
}
