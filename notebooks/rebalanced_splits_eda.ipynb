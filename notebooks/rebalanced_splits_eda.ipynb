{
 "cells": [
  {
   "cell_type": "code",
   "execution_count": 8,
   "id": "9b6d7924-0e44-4b6f-8279-1466ba76655d",
   "metadata": {},
   "outputs": [
    {
     "name": "stdout",
     "output_type": "stream",
     "text": [
      "/app\n"
     ]
    },
    {
     "name": "stderr",
     "output_type": "stream",
     "text": [
      "/home/rishikeshdhayarkar/venv/lib/python3.10/site-packages/IPython/core/magics/osm.py:417: UserWarning: This is now an optional IPython functionality, setting dhist requires you to install the `pickleshare` library.\n",
      "  self.shell.db['dhist'] = compress_dhist(dhist)[-100:]\n"
     ]
    }
   ],
   "source": [
    "cd .."
   ]
  },
  {
   "cell_type": "code",
   "execution_count": 1,
   "id": "09766bbc-1af3-4201-ba25-788e00b1b27f",
   "metadata": {},
   "outputs": [],
   "source": [
    "import pandas as pd"
   ]
  },
  {
   "cell_type": "code",
   "execution_count": 11,
   "id": "2b69ea31-463f-4ecb-bab2-0db437b88520",
   "metadata": {},
   "outputs": [
    {
     "name": "stdout",
     "output_type": "stream",
     "text": [
      "(261918, 5)\n"
     ]
    }
   ],
   "source": [
    "train_df = pd.read_parquet(\"gs://rbd-mlflow/data/processed/rebalanced_splits/train.parquet\")\n",
    "print(train_df.shape)"
   ]
  },
  {
   "cell_type": "code",
   "execution_count": 12,
   "id": "baa9463e-ceeb-41a8-9218-f0895144a1c3",
   "metadata": {},
   "outputs": [
    {
     "data": {
      "text/html": [
       "<div>\n",
       "<style scoped>\n",
       "    .dataframe tbody tr th:only-of-type {\n",
       "        vertical-align: middle;\n",
       "    }\n",
       "\n",
       "    .dataframe tbody tr th {\n",
       "        vertical-align: top;\n",
       "    }\n",
       "\n",
       "    .dataframe thead th {\n",
       "        text-align: right;\n",
       "    }\n",
       "</style>\n",
       "<table border=\"1\" class=\"dataframe\">\n",
       "  <thead>\n",
       "    <tr style=\"text-align: right;\">\n",
       "      <th></th>\n",
       "      <th>label</th>\n",
       "      <th>split</th>\n",
       "      <th>text</th>\n",
       "      <th>dataset_name</th>\n",
       "      <th>cleaned_text</th>\n",
       "    </tr>\n",
       "  </thead>\n",
       "  <tbody>\n",
       "    <tr>\n",
       "      <th>13501</th>\n",
       "      <td>0</td>\n",
       "      <td>train</td>\n",
       "      <td>Boris Johnson has written another storming art...</td>\n",
       "      <td>ghc</td>\n",
       "      <td>boris johnson written another storming article...</td>\n",
       "    </tr>\n",
       "    <tr>\n",
       "      <th>2001</th>\n",
       "      <td>0</td>\n",
       "      <td>train</td>\n",
       "      <td>Thanks Ken! And thanks always for your photogr...</td>\n",
       "      <td>ghc</td>\n",
       "      <td>thanks ken and thanks always photography tips</td>\n",
       "    </tr>\n",
       "    <tr>\n",
       "      <th>15944</th>\n",
       "      <td>0</td>\n",
       "      <td>train</td>\n",
       "      <td>First cousin marriages do not always produce g...</td>\n",
       "      <td>ghc</td>\n",
       "      <td>first cousin marriages always produce genetica...</td>\n",
       "    </tr>\n",
       "    <tr>\n",
       "      <th>5218</th>\n",
       "      <td>0</td>\n",
       "      <td>train</td>\n",
       "      <td>WATCH: Texas Woman Flees with Baby in Carrier ...</td>\n",
       "      <td>ghc</td>\n",
       "      <td>watch texas woman flees baby carrier after hig...</td>\n",
       "    </tr>\n",
       "    <tr>\n",
       "      <th>7452</th>\n",
       "      <td>0</td>\n",
       "      <td>train</td>\n",
       "      <td>POLL: Should I run for President AGAIN?</td>\n",
       "      <td>ghc</td>\n",
       "      <td>poll should i run president again</td>\n",
       "    </tr>\n",
       "  </tbody>\n",
       "</table>\n",
       "</div>"
      ],
      "text/plain": [
       "       label  split                                               text  \\\n",
       "13501      0  train  Boris Johnson has written another storming art...   \n",
       "2001       0  train  Thanks Ken! And thanks always for your photogr...   \n",
       "15944      0  train  First cousin marriages do not always produce g...   \n",
       "5218       0  train  WATCH: Texas Woman Flees with Baby in Carrier ...   \n",
       "7452       0  train            POLL: Should I run for President AGAIN?   \n",
       "\n",
       "      dataset_name                                       cleaned_text  \n",
       "13501          ghc  boris johnson written another storming article...  \n",
       "2001           ghc      thanks ken and thanks always photography tips  \n",
       "15944          ghc  first cousin marriages always produce genetica...  \n",
       "5218           ghc  watch texas woman flees baby carrier after hig...  \n",
       "7452           ghc                  poll should i run president again  "
      ]
     },
     "execution_count": 12,
     "metadata": {},
     "output_type": "execute_result"
    }
   ],
   "source": [
    "train_df.head()"
   ]
  },
  {
   "cell_type": "code",
   "execution_count": null,
   "id": "e1f08669-6273-4035-8fe8-38b2b56dfab0",
   "metadata": {},
   "outputs": [],
   "source": []
  },
  {
   "cell_type": "code",
   "execution_count": null,
   "id": "4be9e449-846d-4243-98b1-4c855d83705a",
   "metadata": {},
   "outputs": [],
   "source": []
  },
  {
   "cell_type": "code",
   "execution_count": null,
   "id": "af5187bb-a06b-4fdb-8542-2b25083cfacb",
   "metadata": {},
   "outputs": [],
   "source": []
  },
  {
   "cell_type": "code",
   "execution_count": null,
   "id": "27ad007c-9827-46b8-a2a5-875de44ce1a0",
   "metadata": {},
   "outputs": [],
   "source": []
  }
 ],
 "metadata": {
  "kernelspec": {
   "display_name": "Python 3 (ipykernel)",
   "language": "python",
   "name": "python3"
  },
  "language_info": {
   "codemirror_mode": {
    "name": "ipython",
    "version": 3
   },
   "file_extension": ".py",
   "mimetype": "text/x-python",
   "name": "python",
   "nbconvert_exporter": "python",
   "pygments_lexer": "ipython3",
   "version": "3.10.14"
  }
 },
 "nbformat": 4,
 "nbformat_minor": 5
}
